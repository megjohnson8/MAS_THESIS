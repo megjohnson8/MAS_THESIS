{
 "cells": [
  {
   "cell_type": "markdown",
   "id": "09bea6a3",
   "metadata": {},
   "source": [
    "# 4. Doc2Vec"
   ]
  },
  {
   "cell_type": "code",
   "execution_count": 1,
   "id": "611dc221",
   "metadata": {},
   "outputs": [],
   "source": [
    "import pandas as pd\n",
    "import numpy as np\n",
    "from sklearn.manifold import TSNE\n",
    "from gensim.models.doc2vec import Doc2Vec, TaggedDocument\n",
    "import gensim\n",
    "import nltk\n",
    "from nltk.tokenize import word_tokenize"
   ]
  },
  {
   "cell_type": "code",
   "execution_count": 2,
   "id": "b9e8784d",
   "metadata": {},
   "outputs": [
    {
     "name": "stdout",
     "output_type": "stream",
     "text": [
      "33520\n"
     ]
    }
   ],
   "source": [
    "movie_df = pd.read_csv('/Users/meg/Thesis/movie_df_final.csv')\n",
    "print(len(movie_df))"
   ]
  },
  {
   "cell_type": "markdown",
   "id": "759f9934",
   "metadata": {},
   "source": [
    "### Tokenize"
   ]
  },
  {
   "cell_type": "code",
   "execution_count": 3,
   "id": "c58e1789",
   "metadata": {},
   "outputs": [],
   "source": [
    "#tokenize with removing punctuation \n",
    "from nltk.tokenize import RegexpTokenizer\n",
    "tokenizer = RegexpTokenizer(r'\\w+')\n",
    "tagged_data = [TaggedDocument(words=tokenizer.tokenize(_d.lower()), tags=[str(i)]) for i, _d in enumerate(movie_df['Plot'])]"
   ]
  },
  {
   "cell_type": "markdown",
   "id": "e3b732b9",
   "metadata": {},
   "source": [
    "### PV-DM Hierarchical Softmax"
   ]
  },
  {
   "cell_type": "code",
   "execution_count": 4,
   "id": "faa9fba3",
   "metadata": {},
   "outputs": [],
   "source": [
    "modelpvdm = gensim.models.doc2vec.Doc2Vec(vector_size=200, window = 15, dm=1, hs=1, min_count=5, epochs=30)"
   ]
  },
  {
   "cell_type": "code",
   "execution_count": 5,
   "id": "f0caeea7",
   "metadata": {},
   "outputs": [
    {
     "name": "stdout",
     "output_type": "stream",
     "text": [
      "0.025\n",
      "0.0001\n"
     ]
    }
   ],
   "source": [
    "print(modelpvdm.alpha)\n",
    "print(modelpvdm.min_alpha)"
   ]
  },
  {
   "cell_type": "code",
   "execution_count": 6,
   "id": "5365cff5",
   "metadata": {},
   "outputs": [
    {
     "name": "stdout",
     "output_type": "stream",
     "text": [
      "CPU times: user 40min 52s, sys: 7.45 s, total: 40min 59s\n",
      "Wall time: 13min 55s\n"
     ]
    }
   ],
   "source": [
    "%%time\n",
    "\n",
    "modelpvdm.build_vocab(tagged_data)\n",
    "modelpvdm.train(tagged_data, total_examples = modelpvdm.corpus_count, epochs=modelpvdm.epochs)\n",
    "\n",
    "vector_size=200\n",
    "docvecs = np.zeros((modelpvdm.corpus_count, vector_size))\n",
    "for i in range(modelpvdm.corpus_count):\n",
    "    x = np.linalg.norm(modelpvdm.dv[i])\n",
    "    docvecs[i] = modelpvdm.dv[i]/x\n",
    "    \n",
    "docvecsdf_modelpvdm = pd.DataFrame(docvecs)"
   ]
  },
  {
   "cell_type": "code",
   "execution_count": 7,
   "id": "40a81240",
   "metadata": {},
   "outputs": [],
   "source": [
    "docvecsdf_modelpvdm.to_csv('doc2vec_embeddings.csv')"
   ]
  },
  {
   "cell_type": "code",
   "execution_count": 8,
   "id": "2186bbe4",
   "metadata": {},
   "outputs": [
    {
     "name": "stdout",
     "output_type": "stream",
     "text": [
      "Top 10 most similar to 'princess'\n"
     ]
    },
    {
     "data": {
      "text/plain": [
       "[('prince', 0.6312201023101807),\n",
       " ('king', 0.5790107250213623),\n",
       " ('queen', 0.4999341666698456),\n",
       " ('duke', 0.41433629393577576),\n",
       " ('kingdom', 0.41289785504341125),\n",
       " ('crown', 0.3804285228252411),\n",
       " ('serpent', 0.36342090368270874),\n",
       " ('palace', 0.3627432584762573),\n",
       " ('slipper', 0.3567153215408325),\n",
       " ('goddess', 0.3470448851585388)]"
      ]
     },
     "execution_count": 8,
     "metadata": {},
     "output_type": "execute_result"
    }
   ],
   "source": [
    "print(\"Top 10 most similar to 'princess'\")\n",
    "modelpvdm.wv.most_similar('princess', topn=10) "
   ]
  }
 ],
 "metadata": {
  "kernelspec": {
   "display_name": "Python 3 (ipykernel)",
   "language": "python",
   "name": "python3"
  },
  "language_info": {
   "codemirror_mode": {
    "name": "ipython",
    "version": 3
   },
   "file_extension": ".py",
   "mimetype": "text/x-python",
   "name": "python",
   "nbconvert_exporter": "python",
   "pygments_lexer": "ipython3",
   "version": "3.11.3"
  }
 },
 "nbformat": 4,
 "nbformat_minor": 5
}
