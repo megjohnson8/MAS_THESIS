{
 "cells": [
  {
   "cell_type": "markdown",
   "id": "9a1d3946",
   "metadata": {},
   "source": [
    "# 1. Remove Character Names"
   ]
  },
  {
   "cell_type": "markdown",
   "id": "db08f7b7",
   "metadata": {},
   "source": [
    "data source: https://www.kaggle.com/datasets/jrobischon/wikipedia-movie-plots\n",
    "\n",
    "code resource: https://stackoverflow.com/questions/71345719/using-spacy-to-remove-names-from-a-data-frame-in-python-3-9\n",
    "\n",
    "Note: this code took over 12 hours to run"
   ]
  },
  {
   "cell_type": "code",
   "execution_count": 1,
   "id": "c19084e7",
   "metadata": {},
   "outputs": [],
   "source": [
    "import pandas as pd\n",
    "import numpy as np\n",
    "import spacy\n",
    "from spacy import displacy\n",
    "nlp = spacy.load(\"en_core_web_trf\")\n",
    "# !python3 -m spacy download en_core_web_trf"
   ]
  },
  {
   "cell_type": "code",
   "execution_count": 2,
   "id": "127a342f",
   "metadata": {},
   "outputs": [],
   "source": [
    "movie_df = pd.read_csv('/Users/meg/Thesis/wiki_movie_plots.csv')"
   ]
  },
  {
   "cell_type": "code",
   "execution_count": 3,
   "id": "bd348f36",
   "metadata": {},
   "outputs": [],
   "source": [
    "df=movie_df.reset_index()\n",
    "df=df[['index', 'Plot']]"
   ]
  },
  {
   "cell_type": "code",
   "execution_count": 4,
   "id": "dbe1554d",
   "metadata": {},
   "outputs": [],
   "source": [
    "def remove_names(text):\n",
    "    doc = nlp(text)\n",
    "    newString = text\n",
    "    for e in reversed(doc.ents):\n",
    "        if e.label_ == \"PERSON\": # Only if the entity is a PERSON\n",
    "            newString = newString[:e.start_char] + newString[e.start_char + len(e.text):]\n",
    "    return newString\n",
    "\n",
    "df['Plot2'] = df['Plot'].apply(remove_names)"
   ]
  },
  {
   "cell_type": "code",
   "execution_count": 5,
   "id": "635de279",
   "metadata": {},
   "outputs": [],
   "source": [
    "df.to_csv('Plots_Without_Names.csv')"
   ]
  }
 ],
 "metadata": {
  "kernelspec": {
   "display_name": "Python 3 (ipykernel)",
   "language": "python",
   "name": "python3"
  },
  "language_info": {
   "codemirror_mode": {
    "name": "ipython",
    "version": 3
   },
   "file_extension": ".py",
   "mimetype": "text/x-python",
   "name": "python",
   "nbconvert_exporter": "python",
   "pygments_lexer": "ipython3",
   "version": "3.11.3"
  }
 },
 "nbformat": 4,
 "nbformat_minor": 5
}
